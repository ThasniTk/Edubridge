{
 "cells": [
  {
   "cell_type": "code",
   "execution_count": null,
   "id": "8587eec6",
   "metadata": {},
   "outputs": [],
   "source": [
    "import math\n",
    "import os\n",
    "import random\n",
    "import re\n",
    "import sys\n",
    "\n",
    "import keyword\n",
    "\n",
    "\n",
    "#Keyword\n",
    "print(\"#Keyword ............\")\n",
    "'''keywords are \n",
    "['False', 'None', 'True', 'and', 'as', 'assert', 'async', 'await', \n",
    "'break', 'class', 'continue', 'def', 'del', 'elif', 'else', 'except', \n",
    "'finally', 'for', 'from', 'global', 'if', 'import', 'in', 'is', 'lambda', \n",
    "'nonlocal', 'not', 'or', 'pass', 'raise', 'return', 'try', 'while', 'with', 'yield']'''\n",
    "print(\"keywords are:\",keyword.kwlist)\n",
    "\n",
    "\n"
   ]
  },
  {
   "cell_type": "code",
   "execution_count": null,
   "id": "e0b73aca",
   "metadata": {},
   "outputs": [],
   "source": [
    "#Variables\n",
    "print(\"#Variables ............\")\n",
    "'''In python, variables are created when you assign the value\n",
    "    A python variable is a reserved memory'''\n",
    "\n",
    "\n"
   ]
  },
  {
   "cell_type": "code",
   "execution_count": null,
   "id": "2d8e556f",
   "metadata": {},
   "outputs": [],
   "source": [
    "#Functions\n",
    "print(\"#Functions ............\")\n",
    "\n",
    "#print() -- to print value in stdout\n",
    "print(\"#print() -- to print value in stdout\")\n",
    "print(\"Thasni\")\n",
    "firstName = \"Thasni\"\n",
    "lastName = \"TK\"\n",
    "print(\"My full name is \" , firstName , lastName)\n",
    "name = \"Thasni\"\n",
    "print(name)\n",
    "print(\"My name is \",name)\n",
    "type(name)\n",
    "\n",
    "#type() -- type() function return the data type of the variable\n",
    "print(\"#type() -- type() function return the data type of the variable\")\n",
    "print(type(name))\n",
    "\n",
    "\n",
    "#input() -- to get input from users\n",
    "print(\"#input() -- to get input from users\")\n",
    "\n",
    "'''\n",
    "input() #just a text box will come to enter value.\n",
    "input(\"please enter a value\") #a text box will come to enter a value with the label \"please enter a value\".\n",
    "'''\n",
    "\n",
    "#id() - to get the identity of the object\n",
    "\n",
    "id(name)\n",
    "\n",
    "#getsizeof() -- size of the object in byte\n",
    "\n",
    "sys.getsizeof(name)\n",
    "\n",
    "#isinstance(obj, whattocheck) -- this is to confirm the given object is the given type\n",
    "print(isinstance(name, int))\n",
    "\n"
   ]
  },
  {
   "cell_type": "code",
   "execution_count": null,
   "id": "2a863347",
   "metadata": {},
   "outputs": [],
   "source": [
    "#Condition statement\n",
    "print(\"#Condition ............\")\n",
    "\n",
    "if name==\"Thasni\" :\n",
    "    print(\"Do somthing\")\n",
    "    print(\"you can do more\")\n",
    "elif name == \"Thasneem\":\n",
    "    print(\"Correct name.\")\n",
    "else:\n",
    "    print(\"Do something else\")\n",
    "    print(\"you can do more somthing else\")\n",
    "\n",
    "    \n"
   ]
  },
  {
   "cell_type": "code",
   "execution_count": null,
   "id": "336ef4b7",
   "metadata": {},
   "outputs": [],
   "source": [
    "#Data Types\n",
    "print(\"#Data Types ............\")\n",
    "\n",
    "#1. INT\n",
    "\n",
    "i = 10\n",
    "print(type(i))\n",
    "print(id(i))\n",
    "print(sys.getsizeof(i))\n",
    "print(\"Is 'i' an integer? ans: \", isinstance(i,int))\n",
    "\n",
    "\n",
    "#2. float\n",
    "f = 10.5\n",
    "print(type(f))\n",
    "print(id(f))\n",
    "print(sys.getsizeof(f))\n",
    "print(\"Is 'f' a float? ans: \",isinstance(f,float))\n",
    "\n",
    "\n",
    "#3.complex\n",
    "complexNumber = 10j\n",
    "print(type(complexNumber))\n",
    "print(id(complexNumber))\n",
    "print(sys.getsizeof(complexNumber))\n",
    "print(\"Is 'complexNumber' a complex type? ans:\" ,isinstance(complexNumber, complex))\n",
    "\n",
    "#4.Boolean\n",
    "b = True\n",
    "print(type(b))\n",
    "print(id(b))\n",
    "print(sys.getsizeof(b))\n",
    "print(\"Is 'b' a boolean type? ans:\" , isinstance(b, bool))\n",
    "bool(0)\n",
    "bool(1)\n",
    "bool(1>5)\n",
    "bool(5>1)\n",
    "\n",
    "\n"
   ]
  },
  {
   "cell_type": "code",
   "execution_count": null,
   "id": "0eb6f21b",
   "metadata": {},
   "outputs": [],
   "source": [
    "#conversion - convert one type to another\n",
    "print(\"#conversion ............\")\n",
    "print(type(int(b)))\n",
    "\n"
   ]
  },
  {
   "cell_type": "code",
   "execution_count": null,
   "id": "4fb29a0a",
   "metadata": {},
   "outputs": [],
   "source": [
    "#Operations:\n",
    "print(\"#Operations ............\")\n",
    "#Addition, Substraction, multiplication, division\n",
    "print(\"#Addition (+), Substraction (-), multiplication (*), division (/), power (**)  ............\")\n",
    "\n",
    "a = int(input(\"First Number\"))\n",
    "b = int(input(\"Second Number\"))\n",
    "op = input(\"Please enter operator from this list (+,-,*,/,**)\")\n",
    "\n",
    "if op==\"+\":\n",
    "    print(a+b)\n",
    "elif op==\"-\":\n",
    "    print(a-b)\n",
    "elif op==\"*\":\n",
    "    print(a*b)\n",
    "elif op==\"/\":\n",
    "    print(a/b)\n",
    "elif op==\"**\":\n",
    "    print(a**b)\n",
    "else:\n",
    "    print(\"Please enter operator from this list (+,-,*,/,**)\")\n",
    "    "
   ]
  },
  {
   "cell_type": "code",
   "execution_count": null,
   "id": "73f54b00",
   "metadata": {},
   "outputs": [],
   "source": [
    "#Sample programs\n",
    "\n",
    "#Power of a number\n",
    "x = int(input(\"Enter the number:\"))\n",
    "n = int(input(\"Enter the power\"))\n",
    "print(\"power of the number is:\",x**n)"
   ]
  },
  {
   "cell_type": "code",
   "execution_count": 2,
   "id": "7c41701c",
   "metadata": {},
   "outputs": [
    {
     "name": "stdout",
     "output_type": "stream",
     "text": [
      "Enter the first value: 3\n",
      "Enter the power: 4\n",
      "cube of the number is:  81\n"
     ]
    }
   ],
   "source": [
    "#10% bonus when salary greater than 10K\n",
    "\n",
    "salary=float(input(\"Please enter your salary\"))\n",
    "if salary>10000:\n",
    "    print(\"Your 10% bonus is :\",salary*.1)\n",
    "else:\n",
    "    print(\"You are not eligible for bonus!!\")"
   ]
  },
  {
   "cell_type": "code",
   "execution_count": 3,
   "id": "20fef464",
   "metadata": {},
   "outputs": [
    {
     "name": "stdout",
     "output_type": "stream",
     "text": [
      "Please enter the number between 1 to 7!: 1\n",
      "Monday!!\n"
     ]
    }
   ],
   "source": [
    "#print respective day according to number 1 to 7\n",
    "n= int(input(\"Please enter the number between 1 to 7!: \"))\n",
    "if n==1:\n",
    "    print(\"Monday!!\")\n",
    "elif n==2:\n",
    "    print(\"Tuesday\")\n",
    "elif n==3:\n",
    "    print(\"Wednesday\")\n",
    "elif n==4:\n",
    "    print(\"Thursday\")\n",
    "elif n==5:\n",
    "    print(\"Friday\")\n",
    "elif n==6:\n",
    "    print(\"Saturday\")\n",
    "elif n==7:\n",
    "    print(\"Sunday\")\n",
    "else:\n",
    "    print(\"Please enter the number between 1 to 7!\")"
   ]
  },
  {
   "cell_type": "code",
   "execution_count": 4,
   "id": "cca3614f",
   "metadata": {},
   "outputs": [
    {
     "name": "stdout",
     "output_type": "stream",
     "text": [
      "Please enter your mark: 3\n",
      "Sorry!! you are failed!!!\n"
     ]
    }
   ],
   "source": [
    "#print grade for the marks according to the given criteria \n",
    "mark= int(input(\"Please enter your mark: \"))\n",
    "if mark>=90:\n",
    "    print(\"Your grade is : A\")\n",
    "elif mark>=75:\n",
    "    print(\"Your grade is : B\")\n",
    "elif mark>=65:\n",
    "    print(\"Your grade is : C\")\n",
    "elif mark>=50:\n",
    "    print(\"Your grade is : D\")\n",
    "else:\n",
    "    print(\"Sorry!! you are failed!!!\")"
   ]
  },
  {
   "cell_type": "code",
   "execution_count": 5,
   "id": "52c8f62a",
   "metadata": {},
   "outputs": [
    {
     "name": "stdout",
     "output_type": "stream",
     "text": [
      "Enter first number: 3\n",
      "Enter second number: 4\n",
      "Enter third number: 5\n",
      "3,4,5\n"
     ]
    }
   ],
   "source": [
    "#print 3 numbers in ascending order\n",
    "n1 = int(input(\"Enter first number: \"))\n",
    "n2 = int(input(\"Enter second number: \"))\n",
    "n3 = int(input(\"Enter third number: \"))\n",
    "\n",
    "if n1 <n2 and n2 < n3:\n",
    "    print(n1,n2,n3)\n",
    "elif n1<n2 and n1 < n3:\n",
    "    print(n1,n3,n2)\n",
    "elif n2<n1 and n1 < n3:\n",
    "    print(n2,n1,n3)\n",
    "elif n2<n1 and n2 < n3:\n",
    "    print(n2,n3,n1)\n",
    "elif n3<n1 and n2 < n1:\n",
    "    print(n3,n2,n1)\n",
    "else:\n",
    "    print(n3,n1,n2)"
   ]
  },
  {
   "cell_type": "code",
   "execution_count": 7,
   "id": "39dfa054",
   "metadata": {},
   "outputs": [
    {
     "name": "stdout",
     "output_type": "stream",
     "text": [
      "Enter the first value: 5\n",
      "the number is odd\n"
     ]
    }
   ],
   "source": [
    "#checking the given number is odd or even\n",
    "x = int(input(\"Enter the first value: \"))\n",
    "if x%2 == 0:\n",
    "    print(\"the number is even\")\n",
    "else:\n",
    "    print(\"the number is odd\")"
   ]
  },
  {
   "cell_type": "code",
   "execution_count": 1,
   "id": "93981096",
   "metadata": {},
   "outputs": [
    {
     "name": "stdout",
     "output_type": "stream",
     "text": [
      "Enter the number:24\n",
      "Enter the power12\n",
      "power of the number is: 36520347436056576\n"
     ]
    }
   ],
   "source": []
  },
  {
   "cell_type": "code",
   "execution_count": 3,
   "id": "bdf712ef",
   "metadata": {},
   "outputs": [
    {
     "name": "stdout",
     "output_type": "stream",
     "text": [
      "Please enter 1 for square,2 for rectangle,3 for triangel: 3\n",
      "Please enter the base:12\n",
      "Please enter the height:18\n",
      "The area of the triangle is : 108.0\n"
     ]
    }
   ],
   "source": [
    "#Area of shapes\n",
    "\n",
    "shape = int(input(\"Please enter 1 for square,2 for rectangle,3 for triangel: \"))\n",
    "if shape == 1:\n",
    "    a = int(input(\"please enter the side:\"))\n",
    "    print(\"Area of the square is: \",a**2)\n",
    "elif shape == 2:\n",
    "    l = float(input(\"Please enter the length:\"))\n",
    "    w = float(input(\"Please eter the widht :\"))\n",
    "    print(\"The area of the rectangle is: \",l*w)\n",
    "elif shape == 3:\n",
    "    b = float(input(\"Please enter the base:\"))\n",
    "    h = float(input(\"Please enter the height:\"))\n",
    "    print(\"The area of the triangle is :\",1/2*b*h)\n",
    "else:\n",
    "    print(\"You entered a wrong number!!!\")\n",
    "    "
   ]
  },
  {
   "cell_type": "code",
   "execution_count": 4,
   "id": "f8322244",
   "metadata": {},
   "outputs": [
    {
     "name": "stdout",
     "output_type": "stream",
     "text": [
      "Quadratic equation:ax^2 + bx + c = 0\n",
      "Please enter the value of x:11\n",
      "Please enter the value of a:10\n",
      "Please enter the value of b:8\n",
      "Please enter the value of c:4\n",
      "10x^2+8x+4=0\n",
      "quadratic equation value is : 1302\n"
     ]
    }
   ],
   "source": [
    "#Quadratic equation\n",
    "print(\"Quadratic equation:ax^2 + bx + c = 0\")\n",
    "x = int(input(\"Please enter the value of x:\"))\n",
    "a = int(input(\"Please enter the value of a:\"))\n",
    "b = int(input(\"Please enter the value of b:\"))\n",
    "c = int(input(\"Please enter the value of c:\"))\n",
    "print(str(a)+\"x^2+\"+str(b)+\"x+\"+str(c)+\"=0\")\n",
    "print(\"quadratic equation value is :\",(a*(x**2))+(b*x)+c)\n",
    "\n",
    "     "
   ]
  },
  {
   "cell_type": "code",
   "execution_count": 5,
   "id": "961392ea",
   "metadata": {},
   "outputs": [
    {
     "name": "stdout",
     "output_type": "stream",
     "text": [
      "Enter the principal amount:1000\n",
      "Enter the rate of interest in percentage:5\n",
      "Enter the time:1\n",
      "Simple interest is : 50.0\n"
     ]
    }
   ],
   "source": [
    "#Simple interest\n",
    "p = float(input(\"Enter the principal amount:\"))\n",
    "r = float(input(\"Enter the rate of interest in percentage:\"))\n",
    "t = float(input(\"Enter the time:\"))\n",
    "print(\"Simple interest is :\",p*(r/100)*t)\n",
    "\n"
   ]
  },
  {
   "cell_type": "code",
   "execution_count": 6,
   "id": "4a19e54c",
   "metadata": {},
   "outputs": [
    {
     "name": "stdout",
     "output_type": "stream",
     "text": [
      "First number4\n",
      "please enter operator from this list (+,_,*,/)+\n",
      "Second number4\n",
      "8\n"
     ]
    }
   ],
   "source": [
    "#calculator\n",
    "a = int(input(\"First number\"))\n",
    "op=input(\"please enter operator from this list (+,_,*,/)\")\n",
    "b =int(input(\"Second number\"))\n",
    "if op==\"+\":\n",
    "    print(a+b)\n",
    "elif op==\" -\":\n",
    "    print(a-b)\n",
    "elif op==\"*\":\n",
    "    print(a*b)\n",
    "elif op==\"/\":\n",
    "    print(a/b)\n",
    "else:\n",
    "    print (\"please enter operator from this list (+,_,*,/)\")\n",
    "    "
   ]
  },
  {
   "cell_type": "code",
   "execution_count": 7,
   "id": "40b1685c",
   "metadata": {},
   "outputs": [
    {
     "name": "stdout",
     "output_type": "stream",
     "text": [
      "Please enter 1 for square,2 for rectangle,3 for circle: 3\n",
      "Please enter the radius:89\n",
      "The volume of the circle is : 24871.940000000002\n"
     ]
    }
   ],
   "source": [
    "#Volume of shapes\n",
    "\n",
    "shape = int(input(\"Please enter 1 for square,2 for rectangle,3 for circle: \"))\n",
    "if shape == 1:\n",
    "    a = int(input(\"please enter the side:\"))\n",
    "    print(\"Volume of the square is: \",4*a)\n",
    "elif shape == 2:\n",
    "    l = float(input(\"Please enter the length:\"))\n",
    "    b = float(input(\"Please eter the width :\"))\n",
    "    h = float(input(\"Please eter the height :\"))\n",
    "    print(\"The volume of the rectangle is: \",l*b*h)\n",
    "elif shape == 3:\n",
    "    r = float(input(\"Please enter the radius:\"))\n",
    "   \n",
    "    print(\"The volume of the circle is :\",3.14*r**2)\n",
    "else:\n",
    "    print(\"You entered a wrong number!!!\")"
   ]
  },
  {
   "cell_type": "code",
   "execution_count": null,
   "id": "7119701c",
   "metadata": {},
   "outputs": [],
   "source": [
    "#check given year is leap year or not\n",
    "year = int(input(\"Please enter the year: \"))\n",
    "\n",
    "if year%4==0:\n",
    "    if year%100==0:\n",
    "        if year%400==0:\n",
    "            print(\"{0} is a Leap year\",year)\n",
    "        else:\n",
    "             print(\"{0} is not a Leap year\",year)\n",
    "    else:\n",
    "        print(\"{0} is a Leap year\",year)\n",
    "else:\n",
    "    print(\"{0} is not a Leap year\",year)\n",
    "\n"
   ]
  },
  {
   "cell_type": "code",
   "execution_count": null,
   "id": "329cb1e3",
   "metadata": {},
   "outputs": [],
   "source": [
    "#Perimeter of shapes\n",
    "\n",
    "shape = int(input(\"Please enter 1 for square,2 for rectangle,3 for circle: \"))\n",
    "if shape == 1:\n",
    "    a = int(input(\"please enter the side:\"))\n",
    "    print(\"Perimeter of the square is: \",4*a)\n",
    "elif shape == 2:\n",
    "    l = int(input(\"Please enter the length:\"))\n",
    "    b = int(input(\"Please eter the width :\"))\n",
    "   \n",
    "    print(\"The Perimeter of the rectangle is: \",2(l+b))\n",
    "elif shape == 3:\n",
    "    r = float(input(\"Please enter the radius:\"))\n",
    "    print(\"The Perimeter of the circle is :\",2.0*3.14*r)\n",
    "else:\n",
    "    print(\"You entered a wrong number!!!\")"
   ]
  },
  {
   "cell_type": "code",
   "execution_count": 3,
   "id": "8f8a11c3",
   "metadata": {},
   "outputs": [
    {
     "name": "stdout",
     "output_type": "stream",
     "text": [
      "Please enter a two digit number: 78\n",
      "87\n"
     ]
    }
   ],
   "source": [
    "\n"
   ]
  },
  {
   "cell_type": "code",
   "execution_count": 4,
   "id": "8d81dae4",
   "metadata": {},
   "outputs": [
    {
     "name": "stdout",
     "output_type": "stream",
     "text": [
      "Please enter first number5\n",
      "Please enter second number8\n",
      "The numbers are not equal\n"
     ]
    }
   ],
   "source": [
    "#two number are equal\n",
    "n = int(input(\"Please enter first number\"))\n",
    "n1 = int(input(\"Please enter second number\"))\n",
    "if n == n1:\n",
    "    print(\"The numbers are equal\")\n",
    "else:\n",
    "    print(\"The numbers are not equal\")"
   ]
  },
  {
   "cell_type": "code",
   "execution_count": 1,
   "id": "b3bc0d9e",
   "metadata": {},
   "outputs": [
    {
     "name": "stdout",
     "output_type": "stream",
     "text": [
      "Please enter a number!7\n",
      "1\n",
      "2\n",
      "3\n",
      "4\n",
      "5\n",
      "6\n",
      "7\n"
     ]
    }
   ],
   "source": [
    "#print n numbers\n",
    "\n",
    "n = int(input(\"Please enter a number!\"))\n",
    "i=1\n",
    "while i<=n:\n",
    "    print(i)\n",
    "    i+=1;"
   ]
  },
  {
   "cell_type": "code",
   "execution_count": 2,
   "id": "4584b343",
   "metadata": {},
   "outputs": [
    {
     "name": "stdout",
     "output_type": "stream",
     "text": [
      "Please enter a number!5\n",
      "15\n"
     ]
    }
   ],
   "source": [
    "#print sum of n numbersabs\n",
    "\n",
    "n = int(input(\"Please enter a number!\"))\n",
    "i=1\n",
    "s = 0\n",
    "while i<=n:\n",
    "    s=s+i\n",
    "    i=i+1\n",
    "print(s)"
   ]
  },
  {
   "cell_type": "code",
   "execution_count": 4,
   "id": "52412d86",
   "metadata": {},
   "outputs": [
    {
     "name": "stdout",
     "output_type": "stream",
     "text": [
      "Please enter a number!6\n",
      "1 x 6 = 6\n",
      "2 x 6 = 12\n",
      "3 x 6 = 18\n",
      "4 x 6 = 24\n",
      "5 x 6 = 30\n",
      "6 x 6 = 36\n",
      "7 x 6 = 42\n",
      "8 x 6 = 48\n",
      "9 x 6 = 54\n",
      "10 x 6 = 60\n"
     ]
    }
   ],
   "source": [
    "#print table of a number\n",
    "n = int(input(\"Please enter a number!\"))\n",
    "i=1\n",
    "while i<=10:\n",
    "    print(i,\"x\",n,\"=\",i*n)\n",
    "    i+=1"
   ]
  },
  {
   "cell_type": "code",
   "execution_count": 5,
   "id": "dcde51df",
   "metadata": {},
   "outputs": [
    {
     "name": "stdout",
     "output_type": "stream",
     "text": [
      "Please enter a number to find factorial!6\n",
      "720\n"
     ]
    }
   ],
   "source": [
    "#factorial of a number\n",
    "n = int(input(\"Please enter a number to find factorial!\"))\n",
    "i=1\n",
    "fact = n\n",
    "while i<n:\n",
    "    fact*= n-i\n",
    "    i+=1\n",
    "print(fact)\n",
    "    "
   ]
  },
  {
   "cell_type": "code",
   "execution_count": 6,
   "id": "45c8350d",
   "metadata": {},
   "outputs": [
    {
     "name": "stdout",
     "output_type": "stream",
     "text": [
      "Please enter a number!5\n",
      "2\n",
      "4\n"
     ]
    }
   ],
   "source": [
    "#print even n numbers\n",
    "\n",
    "n = int(input(\"Please enter a number!\"))\n",
    "i=2\n",
    "while i<=n:\n",
    "    print(i)\n",
    "    i=i+2"
   ]
  },
  {
   "cell_type": "code",
   "execution_count": null,
   "id": "f4d9859a",
   "metadata": {},
   "outputs": [],
   "source": [
    "#reverse of number\n",
    "n = int(input(\"Please enter a two digit number: \"))\n",
    "\n",
    "print((10*(n%10))+(n//10))"
   ]
  },
  {
   "cell_type": "code",
   "execution_count": null,
   "id": "ac9b1fc1",
   "metadata": {},
   "outputs": [],
   "source": [
    "#check given number is prime number\n",
    "\n",
    "n=int(input(\"please enter the number: \"))\n",
    "i=2\n",
    "isPrime=True\n",
    "while i<=9 and isPrime == True and i!=n:\n",
    "    if n%i==0:\n",
    "        isPrime=False\n",
    "    i=i+1\n",
    "if isPrime==True:\n",
    "    print(\"given number is prime\")\n",
    "else:\n",
    "    print(\"given number is not prime\")\n",
    "    "
   ]
  },
  {
   "cell_type": "code",
   "execution_count": 7,
   "id": "a7724bbb",
   "metadata": {},
   "outputs": [
    {
     "name": "stdout",
     "output_type": "stream",
     "text": [
      "enter the level of pyramid5\n",
      "X\n",
      "XX\n",
      "XXX\n",
      "XXXX\n",
      "XXXXX\n"
     ]
    }
   ],
   "source": [
    "#print a pyramid\n",
    "n=int(input(\"enter the level of pyramid\"))\n",
    "i=1\n",
    "p=\"X\"\n",
    "while i<=n:\n",
    "    print(p)\n",
    "    p=p+\"X\"\n",
    "    i=i+1"
   ]
  },
  {
   "cell_type": "code",
   "execution_count": 25,
   "id": "5e5cc5e3",
   "metadata": {},
   "outputs": [
    {
     "name": "stdout",
     "output_type": "stream",
     "text": [
      "\n",
      "1\n",
      "22\n",
      "333\n",
      "4444\n",
      "55555\n",
      "\n",
      "55555\n",
      "4444\n",
      "333\n",
      "22\n",
      "1\n"
     ]
    }
   ],
   "source": [
    "#print a pyramyd using nested loop\n",
    "\n",
    "for i in range(6):\n",
    "    for j in range(i):\n",
    "        print(i,end=\"\")\n",
    "    print()\n",
    "\n",
    "print()\n",
    "\n",
    "for i in range(5,0,-1):\n",
    "    for j in range(i):\n",
    "        print(i,end=\"\")\n",
    "    print()"
   ]
  },
  {
   "cell_type": "code",
   "execution_count": null,
   "id": "dc57dd8c",
   "metadata": {},
   "outputs": [],
   "source": [
    "#bitwise operation\n",
    "\n",
    "#bitwise AND\n",
    "\n",
    "x=6    #binary of 6 is 0110\n",
    "y=4    #binary oif 4 is 0100\n",
    "print(x&y)  # result binary is 0100"
   ]
  }
 ],
 "metadata": {
  "kernelspec": {
   "display_name": "Python 3",
   "language": "python",
   "name": "python3"
  },
  "language_info": {
   "codemirror_mode": {
    "name": "ipython",
    "version": 3
   },
   "file_extension": ".py",
   "mimetype": "text/x-python",
   "name": "python",
   "nbconvert_exporter": "python",
   "pygments_lexer": "ipython3",
   "version": "3.8.8"
  }
 },
 "nbformat": 4,
 "nbformat_minor": 5
}
