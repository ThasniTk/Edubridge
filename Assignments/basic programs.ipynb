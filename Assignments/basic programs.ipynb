{
 "cells": [
  {
   "cell_type": "markdown",
   "id": "cc12bfe6",
   "metadata": {},
   "source": [
    "# BASIC PROGRAMS"
   ]
  },
  {
   "cell_type": "markdown",
   "id": "e34962eb",
   "metadata": {},
   "source": [
    "### Power of a number"
   ]
  },
  {
   "cell_type": "code",
   "execution_count": 1,
   "id": "589a62aa",
   "metadata": {},
   "outputs": [
    {
     "name": "stdout",
     "output_type": "stream",
     "text": [
      "Enter the number:2\n",
      "Enter the power3\n",
      "power of the number is: 8\n"
     ]
    }
   ],
   "source": [
    "\n",
    "x = int(input(\"Enter the number:\"))\n",
    "n = int(input(\"Enter the power\"))\n",
    "print(\"power of the number is:\",x**n)"
   ]
  },
  {
   "cell_type": "markdown",
   "id": "909f8bad",
   "metadata": {},
   "source": [
    "### 10% bonus when salary greater than 10K"
   ]
  },
  {
   "cell_type": "code",
   "execution_count": 2,
   "id": "0f467485",
   "metadata": {},
   "outputs": [
    {
     "name": "stdout",
     "output_type": "stream",
     "text": [
      "Please enter your salary1000\n",
      "You are not eligible for bonus!!\n"
     ]
    }
   ],
   "source": [
    "salary=float(input(\"Please enter your salary\"))\n",
    "if salary>10000:\n",
    "    print(\"Your 10% bonus is :\",salary*.1)\n",
    "else:\n",
    "    print(\"You are not eligible for bonus!!\")"
   ]
  },
  {
   "cell_type": "markdown",
   "id": "615387f5",
   "metadata": {},
   "source": [
    "### print respective day according to number 1 to 7"
   ]
  },
  {
   "cell_type": "code",
   "execution_count": 3,
   "id": "38ab679c",
   "metadata": {},
   "outputs": [
    {
     "name": "stdout",
     "output_type": "stream",
     "text": [
      "Please enter the number between 1 to 7!: 5\n",
      "Friday\n"
     ]
    }
   ],
   "source": [
    "\n",
    "n= int(input(\"Please enter the number between 1 to 7!: \"))\n",
    "if n==1:\n",
    "    print(\"Monday!!\")\n",
    "elif n==2:\n",
    "    print(\"Tuesday\")\n",
    "elif n==3:\n",
    "    print(\"Wednesday\")\n",
    "elif n==4:\n",
    "    print(\"Thursday\")\n",
    "elif n==5:\n",
    "    print(\"Friday\")\n",
    "elif n==6:\n",
    "    print(\"Saturday\")\n",
    "elif n==7:\n",
    "    print(\"Sunday\")\n",
    "else:\n",
    "    print(\"Please enter the number between 1 to 7!\")"
   ]
  },
  {
   "cell_type": "markdown",
   "id": "6a1e1b2c",
   "metadata": {},
   "source": [
    "### Print grade for the marks according to the given criteria "
   ]
  },
  {
   "cell_type": "code",
   "execution_count": 4,
   "id": "308cbee8",
   "metadata": {},
   "outputs": [
    {
     "name": "stdout",
     "output_type": "stream",
     "text": [
      "Please enter your mark: 45\n",
      "Sorry!! you are failed!!!\n"
     ]
    }
   ],
   "source": [
    "\n",
    "mark= int(input(\"Please enter your mark: \"))\n",
    "if mark>=90:\n",
    "    print(\"Your grade is : A\")\n",
    "elif mark>=75:\n",
    "    print(\"Your grade is : B\")\n",
    "elif mark>=65:\n",
    "    print(\"Your grade is : C\")\n",
    "elif mark>=50:\n",
    "    print(\"Your grade is : D\")\n",
    "else:\n",
    "    print(\"Sorry!! you are failed!!!\")"
   ]
  },
  {
   "cell_type": "markdown",
   "id": "8b2afa8a",
   "metadata": {},
   "source": [
    "### Print 3 numbers in ascending order"
   ]
  },
  {
   "cell_type": "code",
   "execution_count": 5,
   "id": "85dfbc9a",
   "metadata": {},
   "outputs": [
    {
     "name": "stdout",
     "output_type": "stream",
     "text": [
      "Enter first number: 1\n",
      "Enter second number: 5\n",
      "Enter third number: 3\n",
      "1 3 5\n"
     ]
    }
   ],
   "source": [
    "\n",
    "n1 = int(input(\"Enter first number: \"))\n",
    "n2 = int(input(\"Enter second number: \"))\n",
    "n3 = int(input(\"Enter third number: \"))\n",
    "\n",
    "if n1 <n2 and n2 < n3:\n",
    "    print(n1,n2,n3)\n",
    "elif n1<n2 and n1 < n3:\n",
    "    print(n1,n3,n2)\n",
    "elif n2<n1 and n1 < n3:\n",
    "    print(n2,n1,n3)\n",
    "elif n2<n1 and n2 < n3:\n",
    "    print(n2,n3,n1)\n",
    "elif n3<n1 and n2 < n1:\n",
    "    print(n3,n2,n1)\n",
    "else:\n",
    "    print(n3,n1,n2)"
   ]
  },
  {
   "cell_type": "markdown",
   "id": "65cb5ce2",
   "metadata": {},
   "source": [
    "### Checking the given number is odd or even"
   ]
  },
  {
   "cell_type": "code",
   "execution_count": 7,
   "id": "cbab9932",
   "metadata": {},
   "outputs": [
    {
     "name": "stdout",
     "output_type": "stream",
     "text": [
      "Enter the first value: 5\n",
      "the number is odd\n"
     ]
    }
   ],
   "source": [
    "\n",
    "x = int(input(\"Enter the first value: \"))\n",
    "if x%2 == 0:\n",
    "    print(\"the number is even\")\n",
    "else:\n",
    "    print(\"the number is odd\")"
   ]
  },
  {
   "cell_type": "markdown",
   "id": "8a87cd44",
   "metadata": {},
   "source": [
    "### Area of shapes"
   ]
  },
  {
   "cell_type": "code",
   "execution_count": 8,
   "id": "10609ffe",
   "metadata": {},
   "outputs": [
    {
     "name": "stdout",
     "output_type": "stream",
     "text": [
      "Please enter 1 for square,2 for rectangle,3 for triangel: 1\n",
      "please enter the side:3\n",
      "Area of the square is:  9\n"
     ]
    }
   ],
   "source": [
    "\n",
    "\n",
    "shape = int(input(\"Please enter 1 for square,2 for rectangle,3 for triangel: \"))\n",
    "if shape == 1:\n",
    "    a = int(input(\"please enter the side:\"))\n",
    "    print(\"Area of the square is: \",a**2)\n",
    "elif shape == 2:\n",
    "    l = float(input(\"Please enter the length:\"))\n",
    "    w = float(input(\"Please eter the widht :\"))\n",
    "    print(\"The area of the rectangle is: \",l*w)\n",
    "elif shape == 3:\n",
    "    b = float(input(\"Please enter the base:\"))\n",
    "    h = float(input(\"Please enter the height:\"))\n",
    "    print(\"The area of the triangle is :\",1/2*b*h)\n",
    "else:\n",
    "    print(\"You entered a wrong number!!!\")\n",
    "    "
   ]
  },
  {
   "cell_type": "markdown",
   "id": "41e93823",
   "metadata": {},
   "source": [
    "### Quadratic equation"
   ]
  },
  {
   "cell_type": "code",
   "execution_count": 9,
   "id": "36344f65",
   "metadata": {},
   "outputs": [
    {
     "name": "stdout",
     "output_type": "stream",
     "text": [
      "Quadratic equation:ax^2 + bx + c = 0\n",
      "Please enter the value of x:3\n",
      "Please enter the value of a:7\n",
      "Please enter the value of b:4\n",
      "Please enter the value of c:9\n",
      "7x^2+4x+9=0\n",
      "quadratic equation value is : 84\n"
     ]
    }
   ],
   "source": [
    "\n",
    "print(\"Quadratic equation:ax^2 + bx + c = 0\")\n",
    "x = int(input(\"Please enter the value of x:\"))\n",
    "a = int(input(\"Please enter the value of a:\"))\n",
    "b = int(input(\"Please enter the value of b:\"))\n",
    "c = int(input(\"Please enter the value of c:\"))\n",
    "print(str(a)+\"x^2+\"+str(b)+\"x+\"+str(c)+\"=0\")\n",
    "print(\"quadratic equation value is :\",(a*(x**2))+(b*x)+c)\n"
   ]
  },
  {
   "cell_type": "markdown",
   "id": "9107fcc5",
   "metadata": {},
   "source": [
    "###  Simple interest"
   ]
  },
  {
   "cell_type": "code",
   "execution_count": 10,
   "id": "f40c2740",
   "metadata": {},
   "outputs": [
    {
     "name": "stdout",
     "output_type": "stream",
     "text": [
      "Enter the principal amount:378\n",
      "Enter the rate of interest in percentage:8\n",
      "Enter the time:2\n",
      "Simple interest is : 60.480000000000004\n"
     ]
    }
   ],
   "source": [
    "\n",
    "p = float(input(\"Enter the principal amount:\"))\n",
    "r = float(input(\"Enter the rate of interest in percentage:\"))\n",
    "t = float(input(\"Enter the time:\"))\n",
    "print(\"Simple interest is :\",p*(r/100)*t)\n"
   ]
  },
  {
   "cell_type": "markdown",
   "id": "a1fb058d",
   "metadata": {},
   "source": [
    "### reverse of number"
   ]
  },
  {
   "cell_type": "code",
   "execution_count": null,
   "id": "6f63b471",
   "metadata": {},
   "outputs": [],
   "source": [
    "\n",
    "n = int(input(\"Please enter a two digit number: \"))\n",
    "\n",
    "print((10*(n%10))+(n//10))"
   ]
  },
  {
   "cell_type": "markdown",
   "id": "4b9e011e",
   "metadata": {},
   "source": [
    "### Calculator"
   ]
  },
  {
   "cell_type": "code",
   "execution_count": 11,
   "id": "90d575bd",
   "metadata": {},
   "outputs": [
    {
     "name": "stdout",
     "output_type": "stream",
     "text": [
      "First number2\n",
      "please enter operator from this list (+,_,*,/)/\n",
      "Second number3\n",
      "0.6666666666666666\n"
     ]
    }
   ],
   "source": [
    "\n",
    "a = int(input(\"First number\"))\n",
    "op=input(\"please enter operator from this list (+,_,*,/)\")\n",
    "b =int(input(\"Second number\"))\n",
    "if op==\"+\":\n",
    "    print(a+b)\n",
    "elif op==\" -\":\n",
    "    print(a-b)\n",
    "elif op==\"*\":\n",
    "    print(a*b)\n",
    "elif op==\"/\":\n",
    "    print(a/b)\n",
    "else:\n",
    "    print (\"please enter operator from this list (+,_,*,/)\")"
   ]
  },
  {
   "cell_type": "code",
   "execution_count": null,
   "id": "eaea09fe",
   "metadata": {},
   "outputs": [],
   "source": []
  }
 ],
 "metadata": {
  "kernelspec": {
   "display_name": "Python 3",
   "language": "python",
   "name": "python3"
  },
  "language_info": {
   "codemirror_mode": {
    "name": "ipython",
    "version": 3
   },
   "file_extension": ".py",
   "mimetype": "text/x-python",
   "name": "python",
   "nbconvert_exporter": "python",
   "pygments_lexer": "ipython3",
   "version": "3.8.8"
  }
 },
 "nbformat": 4,
 "nbformat_minor": 5
}
