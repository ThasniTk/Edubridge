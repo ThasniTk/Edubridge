{
 "cells": [
  {
   "cell_type": "markdown",
   "id": "114ce1e7",
   "metadata": {},
   "source": [
    "# User Defined Functions\n",
    "\n",
    "In all programming and scripting language, a function is a block of program statements which can be used repetitively in a program. It saves the time of a developer. In Python concept of function is same as in other languages. There are some built-in functions which are part of Python. Besides that, we can defines functions according to our need.\n",
    "\n",
    "In Python, a user-defined function's declaration begins with the keyword def and followed by the function name. The function may take arguments(s) as input within the opening and closing parentheses, just after the function name followed by a colon "
   ]
  },
  {
   "cell_type": "code",
   "execution_count": 1,
   "id": "19401dbb",
   "metadata": {},
   "outputs": [],
   "source": [
    "def myFun():    ##defining the function\n",
    "    print(\"Do something\")"
   ]
  },
  {
   "cell_type": "code",
   "execution_count": 2,
   "id": "fc5a65f8",
   "metadata": {},
   "outputs": [
    {
     "name": "stdout",
     "output_type": "stream",
     "text": [
      "Do something\n"
     ]
    }
   ],
   "source": [
    "myFun() ## calling the function"
   ]
  },
  {
   "cell_type": "code",
   "execution_count": 3,
   "id": "d8837bea",
   "metadata": {},
   "outputs": [
    {
     "name": "stdout",
     "output_type": "stream",
     "text": [
      "Please enter a two digit number: 45\n",
      "54\n"
     ]
    }
   ],
   "source": [
    "#reverse of number function\n",
    "def numberReverse():\n",
    "    n = int(input(\"Please enter a two digit number: \"))\n",
    "    print((10*(n%10))+(n//10))\n",
    "\n",
    "#calling the function\n",
    "numberReverse()"
   ]
  },
  {
   "cell_type": "code",
   "execution_count": 4,
   "id": "634db2ba",
   "metadata": {},
   "outputs": [
    {
     "name": "stdout",
     "output_type": "stream",
     "text": [
      "49\n"
     ]
    }
   ],
   "source": [
    "#reverse of number function with param\n",
    "def numberReverse(n):\n",
    "    print((10*(n%10))+(n//10))\n",
    "\n",
    "numberReverse(94)"
   ]
  },
  {
   "cell_type": "code",
   "execution_count": 5,
   "id": "e50c52ee",
   "metadata": {},
   "outputs": [
    {
     "name": "stdout",
     "output_type": "stream",
     "text": [
      "Please enter a two digit number: 45\n",
      "54\n"
     ]
    }
   ],
   "source": [
    "numberReverse(int(input(\"Please enter a two digit number: \")))"
   ]
  },
  {
   "cell_type": "code",
   "execution_count": 6,
   "id": "d7d880da",
   "metadata": {},
   "outputs": [
    {
     "name": "stdout",
     "output_type": "stream",
     "text": [
      "Please enter a two digit number: 56\n",
      "65\n"
     ]
    }
   ],
   "source": [
    "x = int(input(\"Please enter a two digit number: \"))\n",
    "numberReverse(x)"
   ]
  },
  {
   "cell_type": "code",
   "execution_count": 7,
   "id": "55f73b37",
   "metadata": {},
   "outputs": [
    {
     "ename": "TypeError",
     "evalue": "not all arguments converted during string formatting",
     "output_type": "error",
     "traceback": [
      "\u001b[0;31m---------------------------------------------------------------------------\u001b[0m",
      "\u001b[0;31mTypeError\u001b[0m                                 Traceback (most recent call last)",
      "\u001b[0;32m<ipython-input-7-c726c144e6de>\u001b[0m in \u001b[0;36m<module>\u001b[0;34m\u001b[0m\n\u001b[0;32m----> 1\u001b[0;31m \u001b[0mnumberReverse\u001b[0m\u001b[0;34m(\u001b[0m\u001b[0;34m\"Thasni\"\u001b[0m\u001b[0;34m)\u001b[0m\u001b[0;34m\u001b[0m\u001b[0;34m\u001b[0m\u001b[0m\n\u001b[0m",
      "\u001b[0;32m<ipython-input-4-f85ca3ca9db7>\u001b[0m in \u001b[0;36mnumberReverse\u001b[0;34m(n)\u001b[0m\n\u001b[1;32m      1\u001b[0m \u001b[0;31m#reverse of number function with param\u001b[0m\u001b[0;34m\u001b[0m\u001b[0;34m\u001b[0m\u001b[0;34m\u001b[0m\u001b[0m\n\u001b[1;32m      2\u001b[0m \u001b[0;32mdef\u001b[0m \u001b[0mnumberReverse\u001b[0m\u001b[0;34m(\u001b[0m\u001b[0mn\u001b[0m\u001b[0;34m)\u001b[0m\u001b[0;34m:\u001b[0m\u001b[0;34m\u001b[0m\u001b[0;34m\u001b[0m\u001b[0m\n\u001b[0;32m----> 3\u001b[0;31m     \u001b[0mprint\u001b[0m\u001b[0;34m(\u001b[0m\u001b[0;34m(\u001b[0m\u001b[0;36m10\u001b[0m\u001b[0;34m*\u001b[0m\u001b[0;34m(\u001b[0m\u001b[0mn\u001b[0m\u001b[0;34m%\u001b[0m\u001b[0;36m10\u001b[0m\u001b[0;34m)\u001b[0m\u001b[0;34m)\u001b[0m\u001b[0;34m+\u001b[0m\u001b[0;34m(\u001b[0m\u001b[0mn\u001b[0m\u001b[0;34m//\u001b[0m\u001b[0;36m10\u001b[0m\u001b[0;34m)\u001b[0m\u001b[0;34m)\u001b[0m\u001b[0;34m\u001b[0m\u001b[0;34m\u001b[0m\u001b[0m\n\u001b[0m\u001b[1;32m      4\u001b[0m \u001b[0;34m\u001b[0m\u001b[0m\n\u001b[1;32m      5\u001b[0m \u001b[0mnumberReverse\u001b[0m\u001b[0;34m(\u001b[0m\u001b[0;36m94\u001b[0m\u001b[0;34m)\u001b[0m\u001b[0;34m\u001b[0m\u001b[0;34m\u001b[0m\u001b[0m\n",
      "\u001b[0;31mTypeError\u001b[0m: not all arguments converted during string formatting"
     ]
    }
   ],
   "source": [
    "numberReverse(\"Thasni\")   ## data type of the argument should match with function parameters"
   ]
  },
  {
   "cell_type": "code",
   "execution_count": 8,
   "id": "71ca2d13",
   "metadata": {},
   "outputs": [
    {
     "name": "stdout",
     "output_type": "stream",
     "text": [
      "5\n"
     ]
    }
   ],
   "source": [
    "#calculator\n",
    "def myCalci(a,op,b):\n",
    "    if op==\"+\":\n",
    "        print(a+b)\n",
    "    elif op==\" -\":\n",
    "        print(a-b)\n",
    "    elif op==\"*\":\n",
    "        print(a*b)\n",
    "    elif op==\"/\":\n",
    "        print(a/b)\n",
    "    else:\n",
    "        print (\"please enter operator from this list (+,_,*,/)\")\n",
    "\n",
    "myCalci(2,\"+\",3)"
   ]
  },
  {
   "cell_type": "code",
   "execution_count": 9,
   "id": "d200953e",
   "metadata": {},
   "outputs": [
    {
     "name": "stdout",
     "output_type": "stream",
     "text": [
      "First number4\n",
      "please enter operator from this list (+,_,*,/)/\n",
      "Second number56\n",
      "0.07142857142857142\n"
     ]
    }
   ],
   "source": [
    "a = int(input(\"First number\"))\n",
    "op=input(\"please enter operator from this list (+,_,*,/)\")\n",
    "b =int(input(\"Second number\"))\n",
    "myCalci(a,op,b)"
   ]
  },
  {
   "cell_type": "code",
   "execution_count": 10,
   "id": "1266a7dc",
   "metadata": {},
   "outputs": [
    {
     "name": "stdout",
     "output_type": "stream",
     "text": [
      "Please enter a number to find factorial!5\n",
      "120\n"
     ]
    }
   ],
   "source": [
    "#factorial of a number\n",
    "def myFactorial():\n",
    "    n = int(input(\"Please enter a number to find factorial!\"))\n",
    "    i=1\n",
    "    fact = n\n",
    "    while i<n:\n",
    "        fact*= n-i\n",
    "        i+=1\n",
    "    print(fact)\n",
    "    \n",
    "myFactorial() "
   ]
  },
  {
   "cell_type": "code",
   "execution_count": null,
   "id": "dc8ed9e2",
   "metadata": {},
   "outputs": [],
   "source": []
  }
 ],
 "metadata": {
  "kernelspec": {
   "display_name": "Python 3",
   "language": "python",
   "name": "python3"
  },
  "language_info": {
   "codemirror_mode": {
    "name": "ipython",
    "version": 3
   },
   "file_extension": ".py",
   "mimetype": "text/x-python",
   "name": "python",
   "nbconvert_exporter": "python",
   "pygments_lexer": "ipython3",
   "version": "3.8.8"
  }
 },
 "nbformat": 4,
 "nbformat_minor": 5
}
