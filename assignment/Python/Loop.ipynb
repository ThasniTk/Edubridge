{
 "cells": [
  {
   "cell_type": "code",
   "execution_count": null,
   "id": "1ed97966",
   "metadata": {},
   "outputs": [],
   "source": [
    "#print sum of n numbersabs\n",
    "\n",
    "n = int(input(\"Please enter a number!\"))\n",
    "i=1\n",
    "s = 0\n",
    "while i<=n:\n",
    "    s=s+i\n",
    "    i=i+1\n",
    "print(s)"
   ]
  },
  {
   "cell_type": "code",
   "execution_count": null,
   "id": "86b49648",
   "metadata": {},
   "outputs": [],
   "source": [
    "#print table of a number\n",
    "n = int(input(\"Please enter a number!\"))\n",
    "i=1\n",
    "while i<=10:\n",
    "    print(i,\"x\",n,\"=\",i*n)\n",
    "    i+=1"
   ]
  },
  {
   "cell_type": "code",
   "execution_count": null,
   "id": "4bbb4326",
   "metadata": {},
   "outputs": [],
   "source": [
    "#factorial of a number\n",
    "n = int(input(\"Please enter a number to find factorial!\"))\n",
    "i=1\n",
    "fact = n\n",
    "while i<n:\n",
    "    fact*= n-i\n",
    "    i+=1\n",
    "print(fact)"
   ]
  },
  {
   "cell_type": "code",
   "execution_count": null,
   "id": "a858e112",
   "metadata": {},
   "outputs": [],
   "source": [
    "#print even n numbers\n",
    "\n",
    "n = int(input(\"Please enter a number!\"))\n",
    "i=2\n",
    "while i<=n:\n",
    "    print(i)\n",
    "    i=i+2"
   ]
  },
  {
   "cell_type": "code",
   "execution_count": null,
   "id": "b9f71c9b",
   "metadata": {},
   "outputs": [],
   "source": [
    "#check given number is prime number\n",
    "\n",
    "n=int(input(\"please enter the number: \"))\n",
    "i=2\n",
    "isPrime=True\n",
    "while i<=9 and isPrime == True and i!=n:\n",
    "    if n%i==0:\n",
    "        isPrime=False\n",
    "    i=i+1\n",
    "if isPrime==True:\n",
    "    print(\"given number is prime\")\n",
    "else:\n",
    "    print(\"given number is not prime\")"
   ]
  },
  {
   "cell_type": "code",
   "execution_count": null,
   "id": "e591709a",
   "metadata": {},
   "outputs": [],
   "source": [
    "#print a pyramyd using nested loop\n",
    "\n",
    "for i in range(6):\n",
    "    for j in range(i):\n",
    "        print(i,end=\"\")\n",
    "    print()\n",
    "\n",
    "print()\n",
    "\n",
    "for i in range(5,0,-1):\n",
    "    for j in range(i):\n",
    "        print(i,end=\"\")\n",
    "    print()"
   ]
  },
  {
   "cell_type": "code",
   "execution_count": null,
   "id": "6b4b279c",
   "metadata": {},
   "outputs": [],
   "source": []
  },
  {
   "cell_type": "code",
   "execution_count": null,
   "id": "35129af6",
   "metadata": {},
   "outputs": [],
   "source": []
  },
  {
   "cell_type": "code",
   "execution_count": null,
   "id": "3ffdc264",
   "metadata": {},
   "outputs": [],
   "source": []
  }
 ],
 "metadata": {
  "kernelspec": {
   "display_name": "Python 3",
   "language": "python",
   "name": "python3"
  },
  "language_info": {
   "codemirror_mode": {
    "name": "ipython",
    "version": 3
   },
   "file_extension": ".py",
   "mimetype": "text/x-python",
   "name": "python",
   "nbconvert_exporter": "python",
   "pygments_lexer": "ipython3",
   "version": "3.8.8"
  }
 },
 "nbformat": 4,
 "nbformat_minor": 5
}
