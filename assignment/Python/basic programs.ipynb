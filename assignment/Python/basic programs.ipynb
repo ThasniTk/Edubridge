{
 "cells": [
  {
   "cell_type": "markdown",
   "id": "cc12bfe6",
   "metadata": {},
   "source": [
    "## BASIC PROGRAMS"
   ]
  },
  {
   "cell_type": "code",
   "execution_count": null,
   "id": "36344f65",
   "metadata": {},
   "outputs": [],
   "source": [
    "#Quadratic equation\n",
    "print(\"Quadratic equation:ax^2 + bx + c = 0\")\n",
    "x = int(input(\"Please enter the value of x:\"))\n",
    "a = int(input(\"Please enter the value of a:\"))\n",
    "b = int(input(\"Please enter the value of b:\"))\n",
    "c = int(input(\"Please enter the value of c:\"))\n",
    "print(str(a)+\"x^2+\"+str(b)+\"x+\"+str(c)+\"=0\")\n",
    "print(\"quadratic equation value is :\",(a*(x**2))+(b*x)+c)"
   ]
  },
  {
   "cell_type": "code",
   "execution_count": null,
   "id": "f40c2740",
   "metadata": {},
   "outputs": [],
   "source": [
    "#Simple interest\n",
    "p = float(input(\"Enter the principal amount:\"))\n",
    "r = float(input(\"Enter the rate of interest in percentage:\"))\n",
    "t = float(input(\"Enter the time:\"))\n",
    "print(\"Simple interest is :\",p*(r/100)*t)"
   ]
  },
  {
   "cell_type": "code",
   "execution_count": null,
   "id": "6f63b471",
   "metadata": {},
   "outputs": [],
   "source": [
    "#reverse of number\n",
    "n = int(input(\"Please enter a two digit number: \"))\n",
    "\n",
    "print((10*(n%10))+(n//10))"
   ]
  },
  {
   "cell_type": "code",
   "execution_count": null,
   "id": "90d575bd",
   "metadata": {},
   "outputs": [],
   "source": [
    "#Power of a number\n",
    "x = int(input(\"Enter the number:\"))\n",
    "n = int(input(\"Enter the power\"))\n",
    "print(\"power of the number is:\",x**n)"
   ]
  }
 ],
 "metadata": {
  "kernelspec": {
   "display_name": "Python 3",
   "language": "python",
   "name": "python3"
  },
  "language_info": {
   "codemirror_mode": {
    "name": "ipython",
    "version": 3
   },
   "file_extension": ".py",
   "mimetype": "text/x-python",
   "name": "python",
   "nbconvert_exporter": "python",
   "pygments_lexer": "ipython3",
   "version": "3.8.8"
  }
 },
 "nbformat": 4,
 "nbformat_minor": 5
}
