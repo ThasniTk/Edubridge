{
 "cells": [
  {
   "cell_type": "markdown",
   "id": "7306a29e",
   "metadata": {},
   "source": [
    "# Conditional Operations"
   ]
  },
  {
   "cell_type": "code",
   "execution_count": null,
   "id": "0fbc99d4",
   "metadata": {},
   "outputs": [],
   "source": [
    "#10% bonus when salary greater than 10K\n",
    "\n",
    "salary=float(input(\"Please enter your salary\"))\n",
    "if salary>10000:\n",
    "    print(\"Your 10% bonus is :\",salary*.1)\n",
    "else:\n",
    "    print(\"You are not eligible for bonus!!\")"
   ]
  },
  {
   "cell_type": "code",
   "execution_count": null,
   "id": "a414798c",
   "metadata": {},
   "outputs": [],
   "source": [
    "#print respective day according to number 1 to 7\n",
    "n= int(input(\"Please enter the number between 1 to 7!: \"))\n",
    "if n==1:\n",
    "    print(\"Monday!!\")\n",
    "elif n==2:\n",
    "    print(\"Tuesday\")\n",
    "elif n==3:\n",
    "    print(\"Wednesday\")\n",
    "elif n==4:\n",
    "    print(\"Thursday\")\n",
    "elif n==5:\n",
    "    print(\"Friday\")\n",
    "elif n==6:\n",
    "    print(\"Saturday\")\n",
    "elif n==7:\n",
    "    print(\"Sunday\")\n",
    "else:\n",
    "    print(\"Please enter the number between 1 to 7!\")"
   ]
  },
  {
   "cell_type": "code",
   "execution_count": null,
   "id": "9aaadcce",
   "metadata": {},
   "outputs": [],
   "source": [
    "#print grade for the marks according to the given criteria \n",
    "mark= int(input(\"Please enter your mark: \"))\n",
    "if mark>=90:\n",
    "    print(\"Your grade is : A\")\n",
    "elif mark>=75:\n",
    "    print(\"Your grade is : B\")\n",
    "elif mark>=65:\n",
    "    print(\"Your grade is : C\")\n",
    "elif mark>=50:\n",
    "    print(\"Your grade is : D\")\n",
    "else:\n",
    "    print(\"Sorry!! you are failed!!!\")"
   ]
  },
  {
   "cell_type": "code",
   "execution_count": null,
   "id": "0e4f0094",
   "metadata": {},
   "outputs": [],
   "source": [
    "#print 3 numbers in ascending order\n",
    "n1 = int(input(\"Enter first number: \"))\n",
    "n2 = int(input(\"Enter second number: \"))\n",
    "n3 = int(input(\"Enter third number: \"))\n",
    "\n",
    "if n1 <n2 and n2 < n3:\n",
    "    print(n1,n2,n3)\n",
    "elif n1<n2 and n1 < n3:\n",
    "    print(n1,n3,n2)\n",
    "elif n2<n1 and n1 < n3:\n",
    "    print(n2,n1,n3)\n",
    "elif n2<n1 and n2 < n3:\n",
    "    print(n2,n3,n1)\n",
    "elif n3<n1 and n2 < n1:\n",
    "    print(n3,n2,n1)\n",
    "else:\n",
    "    print(n3,n1,n2)"
   ]
  },
  {
   "cell_type": "code",
   "execution_count": null,
   "id": "744e1f59",
   "metadata": {},
   "outputs": [],
   "source": [
    "#checking the given number is odd or even\n",
    "x = int(input(\"Enter the first value: \"))\n",
    "if x%2 == 0:\n",
    "    print(\"the number is even\")\n",
    "else:\n",
    "    print(\"the number is odd\")"
   ]
  },
  {
   "cell_type": "code",
   "execution_count": null,
   "id": "321236e4",
   "metadata": {},
   "outputs": [],
   "source": [
    "#Area of shapes\n",
    "\n",
    "shape = int(input(\"Please enter 1 for square,2 for rectangle,3 for triangel: \"))\n",
    "if shape == 1:\n",
    "    a = int(input(\"please enter the side:\"))\n",
    "    print(\"Area of the square is: \",a**2)\n",
    "elif shape == 2:\n",
    "    l = float(input(\"Please enter the length:\"))\n",
    "    w = float(input(\"Please eter the widht :\"))\n",
    "    print(\"The area of the rectangle is: \",l*w)\n",
    "elif shape == 3:\n",
    "    b = float(input(\"Please enter the base:\"))\n",
    "    h = float(input(\"Please enter the height:\"))\n",
    "    print(\"The area of the triangle is :\",1/2*b*h)\n",
    "else:\n",
    "    print(\"You entered a wrong number!!!\")"
   ]
  },
  {
   "cell_type": "code",
   "execution_count": null,
   "id": "ddfe98fb",
   "metadata": {},
   "outputs": [],
   "source": [
    "#calculator\n",
    "a = int(input(\"First number\"))\n",
    "op=input(\"please enter operator from this list (+,_,*,/)\")\n",
    "b =int(input(\"Second number\"))\n",
    "if op==\"+\":\n",
    "    print(a+b)\n",
    "elif op==\" -\":\n",
    "    print(a-b)\n",
    "elif op==\"*\":\n",
    "    print(a*b)\n",
    "elif op==\"/\":\n",
    "    print(a/b)\n",
    "else:\n",
    "    print (\"please enter operator from this list (+,_,*,/)\")\n",
    "    "
   ]
  },
  {
   "cell_type": "code",
   "execution_count": null,
   "id": "1375e245",
   "metadata": {},
   "outputs": [],
   "source": [
    "#Volume of shapes\n",
    "\n",
    "shape = int(input(\"Please enter 1 for square,2 for rectangle,3 for circle: \"))\n",
    "if shape == 1:\n",
    "    a = int(input(\"please enter the side:\"))\n",
    "    print(\"Volume of the square is: \",4*a)\n",
    "elif shape == 2:\n",
    "    l = float(input(\"Please enter the length:\"))\n",
    "    b = float(input(\"Please eter the width :\"))\n",
    "    h = float(input(\"Please eter the height :\"))\n",
    "    print(\"The volume of the rectangle is: \",l*b*h)\n",
    "elif shape == 3:\n",
    "    r = float(input(\"Please enter the radius:\"))\n",
    "   \n",
    "    print(\"The volume of the circle is :\",3.14*r**2)\n",
    "else:\n",
    "    print(\"You entered a wrong number!!!\")"
   ]
  },
  {
   "cell_type": "code",
   "execution_count": null,
   "id": "8b9f9c2c",
   "metadata": {},
   "outputs": [],
   "source": [
    "#check given year is leap year or not\n",
    "year = int(input(\"Please enter the year: \"))\n",
    "\n",
    "if year%4==0:\n",
    "    if year%100==0:\n",
    "        if year%400==0:\n",
    "            print(\"{0} is a Leap year\",year)\n",
    "        else:\n",
    "             print(\"{0} is not a Leap year\",year)\n",
    "    else:\n",
    "        print(\"{0} is a Leap year\",year)\n",
    "else:\n",
    "    print(\"{0} is not a Leap year\",year)\n",
    "\n"
   ]
  },
  {
   "cell_type": "code",
   "execution_count": null,
   "id": "70f4e199",
   "metadata": {},
   "outputs": [],
   "source": [
    "#Perimeter of shapes\n",
    "\n",
    "shape = int(input(\"Please enter 1 for square,2 for rectangle,3 for circle: \"))\n",
    "if shape == 1:\n",
    "    a = int(input(\"please enter the side:\"))\n",
    "    print(\"Perimeter of the square is: \",4*a)\n",
    "elif shape == 2:\n",
    "    l = int(input(\"Please enter the length:\"))\n",
    "    b = int(input(\"Please eter the width :\"))\n",
    "   \n",
    "    print(\"The Perimeter of the rectangle is: \",2(l+b))\n",
    "elif shape == 3:\n",
    "    r = float(input(\"Please enter the radius:\"))\n",
    "    print(\"The Perimeter of the circle is :\",2.0*3.14*r)\n",
    "else:\n",
    "    print(\"You entered a wrong number!!!\")"
   ]
  },
  {
   "cell_type": "code",
   "execution_count": null,
   "id": "5e398dea",
   "metadata": {},
   "outputs": [],
   "source": [
    "#two number are equal\n",
    "n = int(input(\"Please enter first number\"))\n",
    "n1 = int(input(\"Please enter second number\"))\n",
    "if n == n1:\n",
    "    print(\"The numbers are equal\")\n",
    "else:\n",
    "    print(\"The numbers are not equal\")"
   ]
  },
  {
   "cell_type": "code",
   "execution_count": null,
   "id": "a3e95b39",
   "metadata": {},
   "outputs": [],
   "source": []
  },
  {
   "cell_type": "code",
   "execution_count": null,
   "id": "6b4656e7",
   "metadata": {},
   "outputs": [],
   "source": []
  },
  {
   "cell_type": "code",
   "execution_count": null,
   "id": "6c546204",
   "metadata": {},
   "outputs": [],
   "source": []
  }
 ],
 "metadata": {
  "kernelspec": {
   "display_name": "Python 3",
   "language": "python",
   "name": "python3"
  },
  "language_info": {
   "codemirror_mode": {
    "name": "ipython",
    "version": 3
   },
   "file_extension": ".py",
   "mimetype": "text/x-python",
   "name": "python",
   "nbconvert_exporter": "python",
   "pygments_lexer": "ipython3",
   "version": "3.8.8"
  }
 },
 "nbformat": 4,
 "nbformat_minor": 5
}
